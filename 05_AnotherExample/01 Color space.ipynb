{
 "cells": [
  {
   "attachments": {},
   "cell_type": "markdown",
   "metadata": {},
   "source": [
    "#### (1) 컬러 영상 읽기"
   ]
  },
  {
   "cell_type": "code",
   "execution_count": 1,
   "metadata": {},
   "outputs": [
    {
     "name": "stdout",
     "output_type": "stream",
     "text": [
      "<class 'numpy.ndarray'>: (512, 512, 3) of uint8\n"
     ]
    }
   ],
   "source": [
    "import cv2\n",
    "import numpy as np\n",
    "\n",
    "image = cv2.imread('../data/Lena.png', cv2.IMREAD_COLOR)\n",
    "\n",
    "print('{}: {} of {}'.format(type(image), image.shape, image.dtype))\n"
   ]
  },
  {
   "cell_type": "code",
   "execution_count": 2,
   "metadata": {},
   "outputs": [
    {
     "name": "stdout",
     "output_type": "stream",
     "text": [
      "<class 'numpy.ndarray'>: (512, 512) of uint8\n"
     ]
    }
   ],
   "source": [
    "grey = cv2.imread('../data/Lena.png', cv2.IMREAD_GRAYSCALE)\n",
    "\n",
    "print('{}: {} of {}'.format(type(grey), grey.shape, grey.dtype))"
   ]
  },
  {
   "cell_type": "code",
   "execution_count": 3,
   "metadata": {},
   "outputs": [],
   "source": [
    "cv2.imshow('color',image)\n",
    "cv2.imshow('grey', grey)\n",
    "cv2.waitKey()\n",
    "cv2.destroyAllWindows()"
   ]
  },
  {
   "cell_type": "code",
   "execution_count": 4,
   "metadata": {},
   "outputs": [
    {
     "name": "stdout",
     "output_type": "stream",
     "text": [
      "<class 'numpy.ndarray'>: (512, 512, 3) of float32\n",
      "<class 'numpy.ndarray'>: (512, 512) of float32\n"
     ]
    }
   ],
   "source": [
    "image = cv2.imread('../data/Lena.png', cv2.IMREAD_COLOR).astype(np.float32)/255 # float형식\n",
    "print('{}: {} of {}'.format(type(image), image.shape, image.dtype))\n",
    "grey = cv2.imread('../data/Lena.png', cv2.IMREAD_GRAYSCALE).astype(np.float32)/255 # astype을 통해서 빠르게 type변경이 가능!\n",
    "print('{}: {} of {}'.format(type(grey), grey.shape, grey.dtype))\n",
    "cv2.imshow('color',image) # 각 채널이 (0,1) 사이의 밝기를 가지고 있다고 가정한다.\n",
    "cv2.imshow('grey', grey)\n",
    "cv2.waitKey() # imshow를 할 때 waitKey()와 destroyAllWindows()메서드는 함께 사용해주어야 한다!\n",
    "cv2.destroyAllWindows()"
   ]
  },
  {
   "attachments": {},
   "cell_type": "markdown",
   "metadata": {},
   "source": [
    "#### (2) RGB Color Space"
   ]
  },
  {
   "cell_type": "code",
   "execution_count": 4,
   "metadata": {},
   "outputs": [
    {
     "name": "stdout",
     "output_type": "stream",
     "text": [
      "b: <class 'numpy.ndarray'> (512, 512, 3) of float32\n",
      "g: <class 'numpy.ndarray'> (512, 512, 3) of float32\n",
      "r: <class 'numpy.ndarray'> (512, 512, 3) of float32\n"
     ]
    }
   ],
   "source": [
    "import cv2\n",
    "import numpy as np\n",
    "\n",
    "image = cv2.imread('../data/Lena.png', cv2.IMREAD_COLOR).astype(np.float32) / 255\n",
    "\n",
    "# 모두 0으로 채운 image와 같은 shape를 갖는 3차원 배열\n",
    "b = np.zeros_like(image)\n",
    "g = np.zeros_like(image)\n",
    "r = np.zeros_like(image)\n",
    "\n",
    "# 하나의 채널만 0이 아닌 컬러 영상\n",
    "b[...,0] = image[...,0]\n",
    "g[...,1] = image[...,1]\n",
    "r[...,2] = image[...,2]\n",
    "\n",
    "print('b: {} {} of {}'.format(type(b), b.shape, b.dtype))\n",
    "print('g: {} {} of {}'.format(type(g), g.shape, g.dtype))\n",
    "print('r: {} {} of {}'.format(type(r), r.shape, r.dtype))\n",
    "\n",
    "# r, g, b의 조합으로 이루어져있음을 확인 가능\n",
    "cv2.imshow('color', image)\n",
    "cv2.imshow('b', b)\n",
    "cv2.imshow('g', g)\n",
    "cv2.imshow('r', r)\n",
    "cv2.waitKey()\n",
    "cv2.destroyAllWindows()"
   ]
  },
  {
   "attachments": {},
   "cell_type": "markdown",
   "metadata": {},
   "source": [
    "> 성분 영상은 1 ch.만으로 같은 정보를 표현할 수 있다."
   ]
  },
  {
   "cell_type": "code",
   "execution_count": 5,
   "metadata": {},
   "outputs": [
    {
     "name": "stdout",
     "output_type": "stream",
     "text": [
      "b: <class 'numpy.ndarray'> (512, 512) of float32\n",
      "g: <class 'numpy.ndarray'> (512, 512) of float32\n",
      "r: <class 'numpy.ndarray'> (512, 512) of float32\n"
     ]
    }
   ],
   "source": [
    "b,g,r = cv2.split(image) # 하나의 structure 데이터를 각각 b, g, r로 unpacking을 split()함수를 통해 가능하다\n",
    "\n",
    "print('b: {} {} of {}'.format(type(b), b.shape, b.dtype))\n",
    "print('g: {} {} of {}'.format(type(g), g.shape, g.dtype))\n",
    "print('r: {} {} of {}'.format(type(r), r.shape, r.dtype))\n",
    "\n",
    "bgr = cv2.merge((b,g,r)) # list나 tuple 어떤 것으로 넣어도 상관없다 - split()했다가 merge()해도 사진의 왜곡은 없다\n",
    "\n",
    "cv2.imshow('original vs blended', np.hstack([image,bgr])) # np.hstack() : image array와 bgr array를 왼쪽, 오른쪽에 나눠서 보여줌 - 대신 가로의 크기가 같아야한다!\n",
    "cv2.waitKey()\n",
    "cv2.destroyAllWindows()"
   ]
  },
  {
   "attachments": {},
   "cell_type": "markdown",
   "metadata": {},
   "source": [
    "#### (3) Grayscale\n",
    "\n",
    "Grayscale 영상으로 표현하고자 하는 것은 회색조 영상이라기 보다는 1채널 영상이라고 이해하는 것이 더 타당하다.\n",
    "\n",
    "회색조 영상은 물론 1채널 영상이므로 grayscale로 표현할 수 있다."
   ]
  },
  {
   "cell_type": "code",
   "execution_count": 7,
   "metadata": {},
   "outputs": [],
   "source": [
    "cv2.imshow('b,g,r', np.hstack([b,g,r]))                                                                             \n",
    "cv2.imshow('grey', grey)\n",
    "cv2.waitKey()\n",
    "cv2.destroyAllWindows()"
   ]
  },
  {
   "attachments": {},
   "cell_type": "markdown",
   "metadata": {},
   "source": [
    "> Color-to-Grayscale 변환\n",
    "\n",
    "- 컬러에서 회색조로의 변환은 비가역적이다."
   ]
  },
  {
   "cell_type": "code",
   "execution_count": 6,
   "metadata": {},
   "outputs": [
    {
     "name": "stdout",
     "output_type": "stream",
     "text": [
      "gray: <class 'numpy.ndarray'> (512, 512) of float32\n",
      "pseudo: <class 'numpy.ndarray'> (512, 512, 3) of uint8\n"
     ]
    }
   ],
   "source": [
    "gray = cv2.cvtColor(image, cv2.COLOR_BGR2GRAY)\n",
    "pseudo = cv2.cvtColor(grey, cv2.COLOR_GRAY2BGR)\n",
    "\n",
    "# 내용은 같지만, shape가 다르다\n",
    "print('gray: {} {} of {}'.format(type(gray), gray.shape, gray.dtype))\n",
    "print('pseudo: {} {} of {}'.format(type(pseudo), pseudo.shape, pseudo.dtype))\n",
    "\n",
    "cv2.imshow('grey', gray)\n",
    "cv2.imshow('pseudo color', pseudo)\n",
    "cv2.waitKey()\n",
    "cv2.destroyAllWindows()"
   ]
  },
  {
   "attachments": {},
   "cell_type": "markdown",
   "metadata": {},
   "source": [
    "#### (4) HSV Color Space\n",
    "> `dtype=float32` 인 경우\n",
    "- H: `(0,360)` 범위의 실수 \n",
    "- S: `(0,1)` 범위의 실수\n",
    "- V: BGR 영상의 밝기 범위에 따른다\n",
    "> `dtype=uint8` 인 경우\n",
    "- H: `(0,180)` 실제 색깔(hue)의 1/2 \n",
    "- S: `(0,255)` (0,1) 사이의 채도(saturation)를 255배\n",
    "- V: `(0,255)` "
   ]
  },
  {
   "cell_type": "code",
   "execution_count": 7,
   "metadata": {},
   "outputs": [
    {
     "name": "stdout",
     "output_type": "stream",
     "text": [
      "from RGB of [0..255] float32\n",
      "h: 0~359.58\n",
      "s: 0.0187793~0.964602\n",
      "v: 59~255\n",
      "\n",
      "from RGB of [0..1) float32\n",
      "h: 0~359.58\n",
      "s: 0.0187793~0.964602\n",
      "v: 0.231373~1\n",
      "\n",
      "from RGB of [0..255] uint8\n",
      "h: 0~179\n",
      "s: 5~246\n",
      "v: 59~255\n"
     ]
    }
   ],
   "source": [
    "# 255로 안나누었을 때\n",
    "image = cv2.imread('../data/Lena.png', cv2.IMREAD_COLOR).astype(np.float32)\n",
    "hsv = cv2.cvtColor(image, cv2.COLOR_BGR2HSV)\n",
    "h,s,v = cv2.split(hsv)\n",
    "print('from RGB of [0..255] float32')\n",
    "print('h: {:g}~{:g}'.format(h.min(), h.max()))\n",
    "print('s: {:g}~{:g}'.format(s.min(), s.max()))\n",
    "print('v: {:g}~{:g}'.format(v.min(), v.max()))\n",
    "\n",
    "# 255로 나누었을 때\n",
    "image = cv2.imread('../data/Lena.png', cv2.IMREAD_COLOR).astype(np.float32)/255\n",
    "hsv = cv2.cvtColor(image, cv2.COLOR_BGR2HSV)\n",
    "h,s,v = cv2.split(hsv)\n",
    "print('\\nfrom RGB of [0..1) float32')\n",
    "print('h: {:g}~{:g}'.format(h.min(), h.max()))\n",
    "print('s: {:g}~{:g}'.format(s.min(), s.max()))\n",
    "print('v: {:g}~{:g}'.format(v.min(), v.max()))\n",
    "\n",
    "cv2.imshow('h,s,v', np.hstack([h/360,s,v]))\n",
    "cv2.waitKey()\n",
    "cv2.destroyAllWindows()\n",
    "\n",
    "image = cv2.imread('../data/Lena.png', cv2.IMREAD_COLOR)\n",
    "hsv = cv2.cvtColor(image, cv2.COLOR_BGR2HSV)\n",
    "h,s,v = cv2.split(hsv)\n",
    "print('\\nfrom RGB of [0..255] uint8')\n",
    "print('h: {:g}~{:g}'.format(h.min(), h.max()))\n",
    "print('s: {:g}~{:g}'.format(s.min(), s.max()))\n",
    "print('v: {:g}~{:g}'.format(v.min(), v.max()))\n",
    "\n",
    "cv2.imshow('h,s,v', np.hstack([h,s,v]))\n",
    "cv2.waitKey()\n",
    "cv2.destroyAllWindows()"
   ]
  },
  {
   "attachments": {},
   "cell_type": "markdown",
   "metadata": {},
   "source": [
    "> HSV-to-BGR 변환\n",
    "\n",
    "- HSV로의 변환은, 실수 연산 과정에서 truncation error는 있지만 매우 작은 값의 차이여서, 가역 과정이라고 볼 수 있다."
   ]
  },
  {
   "cell_type": "code",
   "execution_count": 8,
   "metadata": {},
   "outputs": [
    {
     "name": "stdout",
     "output_type": "stream",
     "text": [
      "PSNR:= 145.049 dB\n",
      "PSNR:= 50.6988 dB\n"
     ]
    }
   ],
   "source": [
    "image = cv2.imread('../data/Lena.png', cv2.IMREAD_COLOR).astype(np.float32)\n",
    "hsv = cv2.cvtColor(image, cv2.COLOR_BGR2HSV)\n",
    "imageback = cv2.cvtColor(hsv,cv2.COLOR_HSV2BGR)\n",
    "print('PSNR:= {:g} dB'.format(cv2.PSNR(image,imageback)))\n",
    "\n",
    "image = cv2.imread('../data/Lena.png', cv2.IMREAD_COLOR)\n",
    "hsv = cv2.cvtColor(image, cv2.COLOR_BGR2HSV)\n",
    "imageback = cv2.cvtColor(hsv,cv2.COLOR_HSV2BGR)\n",
    "print('PSNR:= {:g} dB'.format(cv2.PSNR(image,imageback)))\n",
    "\n",
    "cv2.imshow('back', imageback)\n",
    "cv2.waitKey()\n",
    "cv2.destroyAllWindows()\n"
   ]
  },
  {
   "attachments": {},
   "cell_type": "markdown",
   "metadata": {},
   "source": [
    "#### (5) YUV Color Space\n",
    "> `dtype=float32` 인 경우\n",
    "- Y: BGR 영상의 밝기 범위에 따른다\n",
    "- U: B-Y, BGR 영상의 밝기 범위에 따른다\n",
    "- V: R-Y, BGR 영상의 밝기 범위에 따른다\n",
    "> `dtype=uint8` 인 경우\n",
    "- Y: `(0,255)`\n",
    "- U: 128+(R-Y) \n",
    "- V: 128+(R-Y) "
   ]
  },
  {
   "cell_type": "code",
   "execution_count": null,
   "metadata": {
    "collapsed": false
   },
   "outputs": [],
   "source": [
    "image = cv2.imread('../data/Lena.png', cv2.IMREAD_COLOR).astype(np.float32)\n",
    "yuv = cv2.cvtColor(image, cv2.COLOR_BGR2YUV)\n",
    "y,u,v = cv2.split(yuv)\n",
    "print('Y: {:g}~{:g}'.format(y.min(), y.max()))\n",
    "print('U: {:g}~{:g}'.format(u.min(), u.max()))\n",
    "print('V: {:g}~{:g}'.format(v.min(), v.max()))\n",
    "\n",
    "image = cv2.imread('../data/Lena.png', cv2.IMREAD_COLOR).astype(np.float32)/255\n",
    "yuv = cv2.cvtColor(image, cv2.COLOR_BGR2YUV)\n",
    "y,u,v = cv2.split(yuv)\n",
    "print('Y: {:g}~{:g}'.format(y.min(), y.max()))\n",
    "print('U: {:g}~{:g}'.format(u.min(), u.max()))\n",
    "print('V: {:g}~{:g}'.format(v.min(), v.max()))\n",
    "\n",
    "image = cv2.imread('../data/Lena.png', cv2.IMREAD_COLOR)\n",
    "yuv = cv2.cvtColor(image, cv2.COLOR_BGR2YUV)\n",
    "y,u,v = cv2.split(yuv)\n",
    "print('Y: {:g}~{:g}'.format(y.min(), y.max()))\n",
    "print('U: {:g}~{:g}'.format(u.min()-128, u.max()-128))\n",
    "print('V: {:g}~{:g}'.format(v.min()-128, v.max()-128))"
   ]
  },
  {
   "cell_type": "code",
   "execution_count": null,
   "metadata": {},
   "outputs": [],
   "source": [
    "image = cv2.imread('../data/Lena.png', cv2.IMREAD_COLOR).astype(np.float32)\n",
    "yuv = cv2.cvtColor(image, cv2.COLOR_BGR2YUV)\n",
    "y,u,v = cv2.split(yuv)\n",
    "print('Y: {:g}~{:g}'.format(y.min(), y.max()))\n",
    "print('U: {:g}~{:g}'.format(u.min(), u.max()))\n",
    "print('V: {:g}~{:g}'.format(v.min(), v.max()))\n",
    "\n",
    "b,g,r = cv2.split(image)\n",
    "y1 = 0.299*r + 0.587*g + 0.114*b\n",
    "u1 = (b-y1)*0.493\n",
    "v1 = (r-y1)*0.877\n",
    "print('y1: {:g}~{:g}'.format(y1.min(), y1.max()))\n",
    "print('u1: {:g}~{:g}'.format(u1.min(), u1.max()))\n",
    "print('v1: {:g}~{:g}'.format(v1.min(), v1.max()))"
   ]
  },
  {
   "attachments": {},
   "cell_type": "markdown",
   "metadata": {},
   "source": [
    "> YUV-to-BGR 변환\n",
    "\n",
    "- YUV로의 변환은, 실수 연산 과정에서 truncation error는 있지만 매우 작은 값의 차이여서, 가역 과정이라고 볼 수 있다."
   ]
  },
  {
   "cell_type": "code",
   "execution_count": null,
   "metadata": {},
   "outputs": [
    {
     "name": "stdout",
     "output_type": "stream",
     "text": [
      "PSNR:= 88.3063 dB\n",
      "PSNR:= 52.6783 dB\n"
     ]
    }
   ],
   "source": [
    "import cv2\n",
    "import numpy as np\n",
    "\n",
    "image = cv2.imread('../data/Lena.png', cv2.IMREAD_COLOR).astype(np.float32)\n",
    "yuv = cv2.cvtColor(image, cv2.COLOR_BGR2YUV)\n",
    "imageback = cv2.cvtColor(yuv,cv2.COLOR_YUV2BGR)\n",
    "print('PSNR:= {:g} dB'.format(cv2.PSNR(image,imageback)))\n",
    "\n",
    "image = cv2.imread('../data/Lena.png', cv2.IMREAD_COLOR)\n",
    "yuv = cv2.cvtColor(image, cv2.COLOR_BGR2YUV)\n",
    "imageback = cv2.cvtColor(yuv,cv2.COLOR_YUV2BGR)\n",
    "print('PSNR:= {:g} dB'.format(cv2.PSNR(image,imageback)))\n",
    "\n",
    "cv2.imshow('back', imageback)\n",
    "cv2.waitKey()\n",
    "cv2.destroyAllWindows()"
   ]
  },
  {
   "attachments": {},
   "cell_type": "markdown",
   "metadata": {},
   "source": [
    "#### (6) Lab Color Space\n",
    "> `dtype=float32` 인 경우\n",
    "- BGR 영상은 `(0,1)` 범위로 정규화되어 있어야 한다.\n",
    "- L: `(0,100)` 범위의 실수\n",
    "- a: `(-128,128)` 범위의 실수\n",
    "- b: `(-128,128)` 범위의 실수\n",
    "> `dtype=uint8` 인 경우\n",
    "- L: `(0,100)` 범위의 실수에 2.55 배한 후 정수로 cast\n",
    "- a: `(-128,128)` 범위의 실수를 정수로 cast한후 128 오프셋을 더한 결과 \n",
    "- b: `(-128,128)` 범위의 실수를 정수로 cast한후 128 오프셋을 더한 결과 "
   ]
  },
  {
   "cell_type": "code",
   "execution_count": null,
   "metadata": {
    "collapsed": false
   },
   "outputs": [
    {
     "name": "stdout",
     "output_type": "stream",
     "text": [
      "L: 10.4248~96.8689\n",
      "a: -5.09375~60.8906\n",
      "b: -37.7188~81.8281\n",
      "L: 27~248\n",
      "a: -5~61\n",
      "b: -38~82\n"
     ]
    }
   ],
   "source": [
    "image = cv2.imread('../data/Lena.png', cv2.IMREAD_COLOR).astype(np.float32)/255\n",
    "lab = cv2.cvtColor(image, cv2.COLOR_BGR2LAB)\n",
    "l,a,b = cv2.split(lab)\n",
    "print('L: {:g}~{:g}'.format(l.min(), l.max()))\n",
    "print('a: {:g}~{:g}'.format(a.min(), a.max()))\n",
    "print('b: {:g}~{:g}'.format(b.min(), b.max()))\n",
    "\n",
    "image = cv2.imread('../data/Lena.png', cv2.IMREAD_COLOR)\n",
    "lab = cv2.cvtColor(image, cv2.COLOR_BGR2Lab)\n",
    "l,a,b = cv2.split(lab)\n",
    "print('L: {:g}~{:g}'.format(l.min(), l.max()))\n",
    "print('a: {:g}~{:g}'.format(a.min()-128, a.max()-128))\n",
    "print('b: {:g}~{:g}'.format(b.min()-128, b.max()-128))"
   ]
  },
  {
   "attachments": {},
   "cell_type": "markdown",
   "metadata": {},
   "source": [
    "> Lab-to-BGR 변환\n",
    "\n",
    "- Lab로의 변환은, 실수 연산 과정에서 truncation error는 있지만 매우 작은 값의 차이여서, 가역 과정이라고 볼 수 있다."
   ]
  },
  {
   "cell_type": "code",
   "execution_count": null,
   "metadata": {},
   "outputs": [
    {
     "name": "stdout",
     "output_type": "stream",
     "text": [
      "PSNR:= 58.9603 dB\n",
      "PSNR:= 52.0779 dB\n"
     ]
    }
   ],
   "source": [
    "import cv2\n",
    "import numpy as np\n",
    "\n",
    "image = cv2.imread('../data/Lena.png', cv2.IMREAD_COLOR).astype(np.float32)/255\n",
    "lab = cv2.cvtColor(image, cv2.COLOR_BGR2LAB)\n",
    "imageback = cv2.cvtColor(lab,cv2.COLOR_LAB2BGR)\n",
    "print('PSNR:= {:g} dB'.format(cv2.PSNR(image,imageback,1)))\n",
    "\n",
    "image = cv2.imread('../data/Lena.png', cv2.IMREAD_COLOR)\n",
    "lab = cv2.cvtColor(image, cv2.COLOR_BGR2LAB)\n",
    "imageback = cv2.cvtColor(lab,cv2.COLOR_LAB2BGR)\n",
    "print('PSNR:= {:g} dB'.format(cv2.PSNR(image,imageback)))\n",
    "\n",
    "cv2.imshow('back', imageback)\n",
    "cv2.waitKey()\n",
    "cv2.destroyAllWindows()"
   ]
  }
 ],
 "metadata": {
  "kernelspec": {
   "display_name": "Machine Learning",
   "language": "python",
   "name": "conda"
  },
  "language_info": {
   "codemirror_mode": {
    "name": "ipython",
    "version": 3
   },
   "file_extension": ".py",
   "mimetype": "text/x-python",
   "name": "python",
   "nbconvert_exporter": "python",
   "pygments_lexer": "ipython3",
   "version": "3.10.5"
  },
  "vscode": {
   "interpreter": {
    "hash": "10340f3b4385e401792eeb44b8b5edca2cd8c002c17926bde515355c1d6e3c5e"
   }
  }
 },
 "nbformat": 4,
 "nbformat_minor": 2
}
