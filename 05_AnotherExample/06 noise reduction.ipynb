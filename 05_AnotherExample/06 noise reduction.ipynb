{
 "cells": [
  {
   "attachments": {},
   "cell_type": "markdown",
   "metadata": {},
   "source": [
    "#### (1) 가산 잡음 처리"
   ]
  },
  {
   "cell_type": "code",
   "execution_count": 3,
   "metadata": {
    "collapsed": true
   },
   "outputs": [],
   "source": [
    "import cv2\n",
    "import numpy as np\n",
    "import matplotlib.pyplot as plt\n",
    "\n",
    "image = cv2.imread('../data/Lena.png').astype(np.float32) / 255\n",
    "avg = np.zeros_like(image)\n",
    "n = 0\n",
    "\n",
    "for i in range(20):\n",
    "    noise = np.random.randn(*image.shape).astype(np.float32) * 0.25 # 표준편차 0.25\n",
    "    noised = (image + noise).clip(0,1)\n",
    "    avg += noised\n",
    "    n += 1\n",
    "    psnr1 =cv2.PSNR(image, noised,1)\n",
    "    psnra =cv2.PSNR(image, avg/n,1) # 합쳐서 평균을 내면 잡음이 점점 줄어든다 -> 사진은 원본 그대로 사용 but 잡음은 random적이므로 화소별로 더해주거나 빼줄텐데 잡음끼리 계산되어서 잡음이 줄어들기 때문이다.\n",
    "    cv2.imshow('noise reduction: {:0.2f} -> {:0.2f} dB'.format(psnr1,psnra), np.hstack([noised,avg/n]))\n",
    "    cv2.waitKey()\n",
    "    cv2.destroyAllWindows()\n"
   ]
  },
  {
   "attachments": {},
   "cell_type": "markdown",
   "metadata": {},
   "source": [
    "#### (2) IIR Filter"
   ]
  },
  {
   "cell_type": "code",
   "execution_count": 5,
   "metadata": {},
   "outputs": [],
   "source": [
    "import cv2\n",
    "import numpy as np\n",
    "\n",
    "image = cv2.imread('../data/Lena.png').astype(np.float32) / 255\n",
    "avg = np.zeros_like(image)\n",
    "n = 0\n",
    "filtered = np.zeros_like(image)\n",
    "\n",
    "alpha = 0.9 # 기존의 것을 90%남기고, 나머지 10%를 새로 들어온 영상을 이용\n",
    "\n",
    "for i in range(30):\n",
    "    noise = np.random.randn(*image.shape).astype(np.float32) * 0.25\n",
    "    noised =(image + noise).clip(0,1)\n",
    "    filtered = filtered * alpha + noised * (1-alpha) \n",
    "    # filtered = cv2.normalize(filtered,None,0,1,cv2.NORM_MINMAX)\n",
    "    avg += noised\n",
    "    n += 1\n",
    "\n",
    "    psnr1 =cv2.PSNR(image, noised,1)\n",
    "    psnra =cv2.PSNR(image, avg/n,1)\n",
    "    psnrf =cv2.PSNR(image, filtered,1)\n",
    "    cv2.imshow('noise reduction: {:0.2f} -> {:0.2f} -> {:0.2f} dB'.format(psnr1,psnra,psnrf), \\\n",
    "        np.hstack([noised,avg/n,filtered]))\n",
    "    cv2.waitKey()\n",
    "    cv2.destroyAllWindows()"
   ]
  },
  {
   "attachments": {},
   "cell_type": "markdown",
   "metadata": {
    "collapsed": false
   },
   "source": [
    "#### (3) Spatial Filter 1 - Moving Average"
   ]
  },
  {
   "cell_type": "code",
   "execution_count": 6,
   "metadata": {
    "collapsed": false
   },
   "outputs": [],
   "source": [
    "image = cv2.imread('../data/Lena.png').astype(np.float32) / 255\n",
    "noise = np.random.randn(*image.shape).astype(np.float32) * 0.1\n",
    "noised = (image + noise).clip(0,1)\n",
    "\n",
    "blur = cv2.blur(noised,(11,11)) # 숫자를 줄이면 잡음은 덜 줄지만, 조금 덜 blur된다!\n",
    "cv2.imshow('moving average', np.hstack([noised,blur]))\n",
    "cv2.waitKey()\n",
    "cv2.destroyAllWindows()"
   ]
  },
  {
   "attachments": {},
   "cell_type": "markdown",
   "metadata": {
    "collapsed": false
   },
   "source": [
    "#### (4) Spatial Filter 2 - Gaussian Blur"
   ]
  },
  {
   "attachments": {},
   "cell_type": "markdown",
   "metadata": {
    "collapsed": false
   },
   "source": [
    "**Gaussian Kernel**\n",
    "\n",
    "$G_i = \\alpha * e^-{\\frac{(i-(ksize-1)/2)^2}{2*\\sigma^2}}, i=0,1,...,ksize-1$\n",
    "\n",
    "$\\alpha$: scale factor chosen s.t. $\\sum_i G_i = 1$\n",
    "\n",
    "**kernel = getGaussianKernel(ksize, sigma, ktype=CV_64F)**\n",
    "\n",
    "-`ksize` : Aperture size. It should be odd ( `ksize mod 2 = 1` ) and positive.\n",
    "\n",
    "-`sigma` : Gaussian standard deviation. If it is non-positive, it is computed from ksize as $\\sigma = 0.3*((ksize-1)*0.5 - 1) + 0.8$.\n",
    "\n",
    "-`ktype` : Type of filter coefficients. It can be CV_32F or CV_64F ."
   ]
  },
  {
   "cell_type": "code",
   "execution_count": 7,
   "metadata": {},
   "outputs": [],
   "source": [
    "gauss = cv2.GaussianBlur(noised, (11, 11), 0)\n",
    "\n",
    "kernel = cv2.getGaussianKernel(11, 0)\n",
    "filtered = cv2.filter2D(noised, -1, kernel)\n",
    "\n",
    "cv2.imshow('filtered', np.hstack([blur,gauss,filtered]))\n",
    "cv2.waitKey()\n",
    "cv2.destroyAllWindows()"
   ]
  },
  {
   "attachments": {},
   "cell_type": "markdown",
   "metadata": {
    "collapsed": false
   },
   "source": [
    "#### (5) Spatial Filter 3 - Median Filter"
   ]
  },
  {
   "cell_type": "code",
   "execution_count": 8,
   "metadata": {},
   "outputs": [],
   "source": [
    "median_blur = cv2.medianBlur(noised, 5)\n",
    "cv2.imshow('filtered', np.hstack([blur,median_blur]))\n",
    "cv2.waitKey()\n",
    "cv2.destroyAllWindows()"
   ]
  },
  {
   "attachments": {},
   "cell_type": "markdown",
   "metadata": {
    "collapsed": false
   },
   "source": [
    "#### (6) Spatial Filter 4 - Bilateral Filter"
   ]
  },
  {
   "cell_type": "code",
   "execution_count": 12,
   "metadata": {},
   "outputs": [],
   "source": [
    "bilat = cv2.bilateralFilter(noised,11,0,0)\n",
    "cv2.imshow('filtered', np.hstack([blur,bilat]))\n",
    "cv2.waitKey()\n",
    "cv2.destroyAllWindows()"
   ]
  },
  {
   "cell_type": "code",
   "execution_count": 10,
   "metadata": {},
   "outputs": [],
   "source": [
    "cv2.imshow('MA-Gauss-Bilat-Median (clockwize)', np.vstack([np.hstack([blur,gauss]),np.hstack([median_blur,bilat])]))\n",
    "cv2.waitKey()\n",
    "cv2.destroyAllWindows()"
   ]
  },
  {
   "attachments": {},
   "cell_type": "markdown",
   "metadata": {},
   "source": [
    "#### (7) Adaptive Wiener Filter"
   ]
  },
  {
   "cell_type": "code",
   "execution_count": 11,
   "metadata": {},
   "outputs": [],
   "source": [
    "import cv2\n",
    "import numpy as np\n",
    "\n",
    "image = cv2.imread('../data/Lena.png').astype(np.float32) / 255\n",
    "noise = np.random.randn(*image.shape).astype(np.float32) * 0.1\n",
    "noised = (image + noise).clip(0,1)\n",
    "filtered = noised.copy()\n",
    "\n",
    "y, x = image.shape[:2]\n",
    "\n",
    "for i in range(11,y-11):\n",
    "    for j in range(11,x-11):\n",
    "        for k in range(3):\n",
    "            block = noised[i-11:i+12,j-11:j+12,k]\n",
    "            mf = np.mean(block)\n",
    "            sig = np.std(block)\n",
    "            filtered[i,j,k] = mf + sig**2/(sig**2+0.01)*(noised[i,j,k]-mf)\n",
    "\n",
    "cv2.imshow('filtered', np.hstack([noised,filtered]))\n",
    "cv2.waitKey()\n",
    "cv2.destroyAllWindows()"
   ]
  },
  {
   "attachments": {},
   "cell_type": "markdown",
   "metadata": {},
   "source": [
    "#### (8) Measure of matching"
   ]
  },
  {
   "cell_type": "code",
   "execution_count": 11,
   "metadata": {},
   "outputs": [
    {
     "name": "stdout",
     "output_type": "stream",
     "text": [
      "27.792012816405276 dB\n",
      "cv2.TM_CCOEFF [[0.0310449]]\n",
      "cv2.TM_CCORR [[0.3047682]]\n",
      "27.791971791655655 dB cv2.TM_SQDIFF [[0.00166266]]\n",
      "cv2.TM_CCOEFF_NORMED [[1.23873368e-06]]\n",
      "cv2.TM_CCORR_NORMED [[0.99728286]]\n",
      "cv2.TM_SQDIFF_NORMED [[0.00544066]]\n"
     ]
    }
   ],
   "source": [
    "methods = ['cv2.TM_CCOEFF', 'cv2.TM_CCORR','cv2.TM_SQDIFF', \n",
    "            'cv2.TM_CCOEFF_NORMED', 'cv2.TM_CCORR_NORMED', 'cv2.TM_SQDIFF_NORMED']\n",
    "\n",
    "import cv2\n",
    "import numpy as np\n",
    "import matplotlib.pyplot as plt\n",
    "\n",
    "image = cv2.imread('../data/Lena.png').astype(np.float32) / 255\n",
    "noise = np.random.randn(*image.shape).astype(np.float32) * 0.1\n",
    "noised = (image + noise).clip(0,1)\n",
    "\n",
    "median_blur = cv2.medianBlur(noised, 5)\n",
    "bilat = cv2.bilateralFilter(noised,11,0,0)\n",
    "\n",
    "psnr = cv2.PSNR(image, median_blur, 1)\n",
    "print(psnr,'dB')\n",
    "\n",
    "for k in range(6):\n",
    "    res = cv2.matchTemplate(image, median_blur, eval(methods[k]))\n",
    "    if k <= 3:\n",
    "        res = res/(image.shape[0]*image.shape[1]*image.shape[2])\n",
    "    if k == 2:\n",
    "        psnr1 = -10*np.log10(res[0][0])\n",
    "        print(psnr1,'dB', end=' ')\n",
    "    print(methods[k], res)\n"
   ]
  }
 ],
 "metadata": {
  "kernelspec": {
   "display_name": "Python 3",
   "language": "python",
   "name": "python3"
  },
  "language_info": {
   "codemirror_mode": {
    "name": "ipython",
    "version": 3
   },
   "file_extension": ".py",
   "mimetype": "text/x-python",
   "name": "python",
   "nbconvert_exporter": "python",
   "pygments_lexer": "ipython3",
   "version": "3.11.0"
  },
  "vscode": {
   "interpreter": {
    "hash": "10340f3b4385e401792eeb44b8b5edca2cd8c002c17926bde515355c1d6e3c5e"
   }
  }
 },
 "nbformat": 4,
 "nbformat_minor": 2
}
