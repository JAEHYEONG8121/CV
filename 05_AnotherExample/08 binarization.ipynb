{
 "cells": [
  {
   "attachments": {},
   "cell_type": "markdown",
   "metadata": {},
   "source": [
    "#### (1) Global Thresholding"
   ]
  },
  {
   "cell_type": "code",
   "execution_count": 1,
   "metadata": {},
   "outputs": [
    {
     "data": {
      "image/png": "[encoded data removed]",
      "text/plain": [
       "<Figure size 1200x400 with 6 Axes>"
      ]
     },
     "metadata": {},
     "output_type": "display_data"
    }
   ],
   "source": [
    "import cv2\n",
    "import numpy as np\n",
    "import matplotlib.pyplot as plt\n",
    "\n",
    "img = cv2.imread('../data/gradient.png',0)\n",
    "\n",
    "_,thresh1 = cv2.threshold(img,127,255,cv2.THRESH_BINARY) # 경계치보다 작으면 0, 크면 255\n",
    "_,thresh2 = cv2.threshold(img,127,255,cv2.THRESH_BINARY_INV) # 경계치보다 작으면 255, 크면 0\n",
    "_,thresh3 = cv2.threshold(img,127,255,cv2.THRESH_TRUNC) # 경계치보다 작으면 원래있던 값 유지, 크면 127\n",
    "_,thresh4 = cv2.threshold(img,127,255,cv2.THRESH_TOZERO)\n",
    "_,thresh5 = cv2.threshold(img,127,255,cv2.THRESH_TOZERO_INV)\n",
    "titles = ['Original Image','BINARY','BINARY_INV','TRUNC','TOZERO','TOZERO_INV']\n",
    "images = [img, thresh1, thresh2, thresh3, thresh4, thresh5]\n",
    "plt.figure(figsize=(12,4))\n",
    "for i in range(6):\n",
    "    plt.subplot(2,3,i+1),plt.imshow(images[i],'gray',vmin=0,vmax=255)\n",
    "    plt.title(titles[i])\n",
    "    plt.xticks([])\n",
    "    plt.yticks([])\n",
    "plt.show()"
   ]
  },
  {
   "attachments": {},
   "cell_type": "markdown",
   "metadata": {},
   "source": [
    "#### (2) Otsu Algorithm"
   ]
  },
  {
   "cell_type": "code",
   "execution_count": 2,
   "metadata": {},
   "outputs": [
    {
     "name": "stdout",
     "output_type": "stream",
     "text": [
      "Otsu threshold: 126.0\n"
     ]
    }
   ],
   "source": [
    "import cv2\n",
    "import numpy as np\n",
    "\n",
    "img = cv2.imread('../data/gradient.png',0)\n",
    "\n",
    "th1, mask = cv2.threshold(img,127,255,cv2.THRESH_BINARY) \n",
    "\n",
    "otsu_thr, otsu_mask = cv2.threshold(img, 0, 255, cv2.THRESH_BINARY | cv2.THRESH_OTSU) # 최적의 임계값을 알아서 찾아냄\n",
    "\n",
    "print(f'Otsu threshold: {otsu_thr}')\n",
    "\n",
    "cv2.imshow('threshold=127',mask)\n",
    "cv2.imshow('Otsu',otsu_mask)\n",
    "cv2.waitKey()\n",
    "cv2.destroyAllWindows()"
   ]
  },
  {
   "attachments": {},
   "cell_type": "markdown",
   "metadata": {
    "collapsed": false
   },
   "source": [
    "#### (2) Adaptive thresholding"
   ]
  },
  {
   "cell_type": "code",
   "execution_count": 3,
   "metadata": {},
   "outputs": [],
   "source": [
    "img = cv2.imread('../data/sudoku.png',0) # 그림자가 존재하는 이미지\n",
    "\n",
    "th1, mask = cv2.threshold(img,127,255,cv2.THRESH_BINARY) # 127로 thresholding을 하면 그림자 부분이 크게 나타남\n",
    "cv2.imshow('binary threshold = 127',mask)\n",
    "cv2.waitKey()\n",
    "cv2.destroyAllWindows()\n",
    "\n",
    "otsu_thr, otsu_mask = cv2.threshold(img,127,255,cv2.THRESH_BINARY | cv2.THRESH_OTSU) # otsu알고리즘을 통해 최적의 임계값으로 thresholding을 하면 그림자가 많이 제거됨\n",
    "\n",
    "cv2.imshow('Ostu threshold = {:g}'.format(otsu_thr), otsu_mask)\n",
    "cv2.waitKey()\n",
    "cv2.destroyAllWindows()"
   ]
  },
  {
   "attachments": {},
   "cell_type": "markdown",
   "metadata": {},
   "source": [
    "`cv2.adaptiveThreshold(src, maxValue, adaptiveMethod, thresholdType, blockSize, C)`\n",
    "\n",
    "Parameters:\t\n",
    ">- src – grayscale image\n",
    ">- maxValue – 임계값\n",
    ">- adaptiveMethod – thresholding value를 결정하는 계산 방법\n",
    ">- thresholdType – threshold type\n",
    ">- blockSize – thresholding을 적용할 영역 사이즈\n",
    ">- C – 평균이나 가중평균에서 차감할 값\n",
    "\n",
    "Adaptive Methods\n",
    ">- cv2.ADAPTIVE_THRESH_MEAN_C : 주변영역의 평균값으로 결정\n",
    ">- cv2.ADAPTIVE_THRESH_GAUSSIAN_C :"
   ]
  },
  {
   "cell_type": "code",
   "execution_count": 4,
   "metadata": {},
   "outputs": [],
   "source": [
    "adapt_mask = cv2.adaptiveThreshold(img, 255, cv2.ADAPTIVE_THRESH_MEAN_C, cv2.THRESH_BINARY_INV, 11, 6)\n",
    "\n",
    "cv2.imshow('binary threshold = 127',mask)\n",
    "cv2.imshow('Ostu threshold = {:g}'.format(otsu_thr), otsu_mask)\n",
    "cv2.imshow('adaptive threshold',adapt_mask)\n",
    "cv2.waitKey()\n",
    "cv2.destroyAllWindows()"
   ]
  },
  {
   "attachments": {},
   "cell_type": "markdown",
   "metadata": {
    "collapsed": false
   },
   "source": [
    "#### (3) Prefilters\n"
   ]
  },
  {
   "cell_type": "code",
   "execution_count": 5,
   "metadata": {},
   "outputs": [],
   "source": [
    "img = cv2.imread('../data/sudoku.png',0)\n",
    "\n",
    "mask = cv2.adaptiveThreshold(img, 255, cv2.ADAPTIVE_THRESH_MEAN_C, cv2.THRESH_BINARY_INV, 11, 6)\n",
    "\n",
    "blur = cv2.GaussianBlur(img,(11,11),0)\n",
    "blur_mask = cv2.adaptiveThreshold(blur, 255, cv2.ADAPTIVE_THRESH_MEAN_C, cv2.THRESH_BINARY_INV, 11, 6)\n",
    "\n",
    "cv2.imshow('without prefilter',mask)\n",
    "cv2.imshow('after prefiltering',blur_mask) # 어느정도의 salt잡음들이 사라진 것을 확인할 수 있음\n",
    "cv2.waitKey()\n",
    "cv2.destroyAllWindows()"
   ]
  },
  {
   "attachments": {},
   "cell_type": "markdown",
   "metadata": {},
   "source": [
    "#### (4) Morphological Filter"
   ]
  },
  {
   "cell_type": "code",
   "execution_count": 6,
   "metadata": {
    "collapsed": true
   },
   "outputs": [],
   "source": [
    "closed = cv2.morphologyEx(mask, cv2.MORPH_CLOSE,cv2.getStructuringElement(cv2.MORPH_ELLIPSE, (3, 3)),iterations=1)\n",
    "opened = cv2.morphologyEx(closed, cv2.MORPH_OPEN, cv2.getStructuringElement(cv2.MORPH_ELLIPSE, (3, 3)),iterations=1)\n",
    "\n",
    "cv2.imshow('without prefilter',mask)\n",
    "cv2.imshow('after prefiltering',blur_mask)\n",
    "cv2.imshow('opening',opened)\n",
    "cv2.imshow('closing',closed)\n",
    "cv2.waitKey()\n",
    "cv2.destroyAllWindows()"
   ]
  },
  {
   "attachments": {},
   "cell_type": "markdown",
   "metadata": {},
   "source": [
    "#### (5) 2진 영상의 응용 예 1: Mask"
   ]
  },
  {
   "cell_type": "code",
   "execution_count": 7,
   "metadata": {},
   "outputs": [
    {
     "ename": "KeyboardInterrupt",
     "evalue": "",
     "output_type": "error",
     "traceback": [
      "\u001b[1;31m---------------------------------------------------------------------------\u001b[0m",
      "\u001b[1;31mKeyboardInterrupt\u001b[0m                         Traceback (most recent call last)",
      "\u001b[1;32mc:\\컴퓨터비전_학교\\실습_1\\10 binarization.ipynb Cell 14\u001b[0m in \u001b[0;36m3\n\u001b[0;32m     <a href='vscode-notebook-cell:/c%3A/%EC%BB%B4%ED%93%A8%ED%84%B0%EB%B9%84%EC%A0%84_%ED%95%99%EA%B5%90/%EC%8B%A4%EC%8A%B5_1/10%20binarization.ipynb#X16sZmlsZQ%3D%3D?line=33'>34</a>\u001b[0m         cv2\u001b[39m.\u001b[39mimshow(\u001b[39m'\u001b[39m\u001b[39mmask\u001b[39m\u001b[39m'\u001b[39m, mask)\n\u001b[0;32m     <a href='vscode-notebook-cell:/c%3A/%EC%BB%B4%ED%93%A8%ED%84%B0%EB%B9%84%EC%A0%84_%ED%95%99%EA%B5%90/%EC%8B%A4%EC%8A%B5_1/10%20binarization.ipynb#X16sZmlsZQ%3D%3D?line=34'>35</a>\u001b[0m         cv2\u001b[39m.\u001b[39mimshow(\u001b[39m'\u001b[39m\u001b[39mres\u001b[39m\u001b[39m'\u001b[39m, res)\n\u001b[1;32m---> <a href='vscode-notebook-cell:/c%3A/%EC%BB%B4%ED%93%A8%ED%84%B0%EB%B9%84%EC%A0%84_%ED%95%99%EA%B5%90/%EC%8B%A4%EC%8A%B5_1/10%20binarization.ipynb#X16sZmlsZQ%3D%3D?line=36'>37</a>\u001b[0m     \u001b[39mif\u001b[39;00m cv2\u001b[39m.\u001b[39;49mwaitKey(\u001b[39m1\u001b[39;49m) \u001b[39m&\u001b[39m \u001b[39m0xFF\u001b[39m \u001b[39m==\u001b[39m \u001b[39m27\u001b[39m:\n\u001b[0;32m     <a href='vscode-notebook-cell:/c%3A/%EC%BB%B4%ED%93%A8%ED%84%B0%EB%B9%84%EC%A0%84_%ED%95%99%EA%B5%90/%EC%8B%A4%EC%8A%B5_1/10%20binarization.ipynb#X16sZmlsZQ%3D%3D?line=37'>38</a>\u001b[0m         \u001b[39mbreak\u001b[39;00m\n\u001b[0;32m     <a href='vscode-notebook-cell:/c%3A/%EC%BB%B4%ED%93%A8%ED%84%B0%EB%B9%84%EC%A0%84_%ED%95%99%EA%B5%90/%EC%8B%A4%EC%8A%B5_1/10%20binarization.ipynb#X16sZmlsZQ%3D%3D?line=39'>40</a>\u001b[0m cap\u001b[39m.\u001b[39mrelease()\n",
      "\u001b[1;31mKeyboardInterrupt\u001b[0m: "
     ]
    }
   ],
   "source": [
    "# 크로마키\n",
    "\n",
    "import cv2\n",
    "import numpy as np\n",
    "\n",
    "# Camera 객체를 생성 후 사이즈르 320 X 240 으로 조정.\n",
    "cap = cv2.VideoCapture(0)\n",
    "cap.set(3, 640)\n",
    "cap.set(4, 480)\n",
    "\n",
    "while(1):\n",
    "    # camera에서 frame capture.\n",
    "    ret, frame = cap.read()\n",
    "\n",
    "    if ret:\n",
    "        \n",
    "        frame = cv2.GaussianBlur(frame,(7,7),0)\n",
    "\n",
    "        # BGR->HSV로 변환\n",
    "        hsv = cv2.cvtColor(frame, cv2.COLOR_BGR2HSV)\n",
    "\n",
    "        # blue 영역의 from ~ to\n",
    "        # Red 원색의 Hue는 0, Green 원색의 Hue는 60, Blue 원색의 Hue는 120\n",
    "        lower_blue = np.array([105, 100, 100])\n",
    "        upper_blue = np.array([135, 255, 255])\n",
    "\n",
    "        #이미지에서 blue영역\n",
    "        mask = cv2.inRange(hsv, lower_blue, upper_blue)\n",
    "\n",
    "        #bit연산자를 통해서 blue영역만 남김.\n",
    "        res = cv2.bitwise_and(frame, frame, mask = mask)\n",
    "\n",
    "        cv2.imshow('frame', frame)\n",
    "        cv2.imshow('mask', mask)\n",
    "        cv2.imshow('res', res)\n",
    "\n",
    "    if cv2.waitKey(1) & 0xFF == 27:\n",
    "        break\n",
    "\n",
    "cap.release()\n",
    "cv2.destroyAllWindows()"
   ]
  },
  {
   "attachments": {},
   "cell_type": "markdown",
   "metadata": {},
   "source": [
    "#### (6) 2진 영상의 응용 2: Object detection"
   ]
  },
  {
   "cell_type": "code",
   "execution_count": 8,
   "metadata": {
    "collapsed": false
   },
   "outputs": [],
   "source": [
    "img = cv2.imread('../data/35.bmp')\n",
    "rows,cols=img.shape[:2]\n",
    "img = img[rows//4:rows//2+rows//4,cols//4:cols//2+cols//4,:].copy()\n",
    "\n",
    "grey = cv2.cvtColor(img,cv2.COLOR_BGR2GRAY)\n",
    "\n",
    "grey = cv2.GaussianBlur(grey,(11,11),0)\n",
    "\n",
    "mask = cv2.adaptiveThreshold(grey, 255, cv2.ADAPTIVE_THRESH_MEAN_C, cv2.THRESH_BINARY_INV, 11, 6)\n",
    "\n",
    "res = cv2.bitwise_and(img, img, mask=mask)\n",
    "\n",
    "cv2.imshow('input',img)\n",
    "cv2.imshow('objects',res)\n",
    "cv2.waitKey()\n",
    "cv2.destroyAllWindows()"
   ]
  }
 ],
 "metadata": {
  "kernelspec": {
   "display_name": "Machine Learning",
   "language": "python",
   "name": "conda"
  },
  "language_info": {
   "codemirror_mode": {
    "name": "ipython",
    "version": 3
   },
   "file_extension": ".py",
   "mimetype": "text/x-python",
   "name": "python",
   "nbconvert_exporter": "python",
   "pygments_lexer": "ipython3",
   "version": "3.10.5"
  },
  "vscode": {
   "interpreter": {
    "hash": "10340f3b4385e401792eeb44b8b5edca2cd8c002c17926bde515355c1d6e3c5e"
   }
  }
 },
 "nbformat": 4,
 "nbformat_minor": 2
}
