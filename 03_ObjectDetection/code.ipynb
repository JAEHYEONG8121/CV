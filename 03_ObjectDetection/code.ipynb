{
  "cells": [
    {
      "attachments": {},
      "cell_type": "markdown",
      "metadata": {
        "id": "GS-5N7zbN5Rs"
      },
      "source": [
        "Problem 1: [code by yourself]\n",
        "\n",
        "Write code that does the following:\n",
        "1. loads an image using PIL\n",
        "2. loads pre-trained object detection model using the TorchVision module of PyTorch\n",
        "3. runs object detection using the pre-trained model on the loaded image\n",
        "4. displays the object detection results (bounding box, object label, confidence value) overlayed on the loaded image\n",
        "5. if there are too many detection boxes in the outcome, apply thresholding on the detection confidence to show only high-confidence boxes"
      ]
    },
    {
      "cell_type": "code",
      "execution_count": 10,
      "metadata": {
        "id": "82qHmNBnx9BT"
      },
      "outputs": [],
      "source": [
        "import torch\n",
        "import torchvision.transforms as T\n",
        "from torchvision.models.detection import fasterrcnn_resnet50_fpn\n",
        "from PIL import Image, ImageDraw\n",
        "\n",
        "# Step 1: Load the image using PIL\n",
        "image_path = \"sample2.jpg\"\n",
        "image = Image.open(image_path).convert(\"RGB\")\n",
        "\n",
        "# Step 2: Load the pre-trained object detection model\n",
        "model = fasterrcnn_resnet50_fpn(pretrained=True)\n",
        "model.eval()\n",
        "\n",
        "# Step 3: Run object detection on the loaded image\n",
        "transform = T.Compose([T.ToTensor()])\n",
        "image_tensor = transform(image)\n",
        "predictions = model([image_tensor])\n",
        "\n",
        "# Step 4: Display object detection results\n",
        "draw = ImageDraw.Draw(image)\n",
        "\n",
        "# Step 5: Apply thresholding on detection confidence\n",
        "threshold = 0.9  # Adjust the threshold value as needed\n",
        "\n",
        "for box, label, score in zip(predictions[0][\"boxes\"], predictions[0][\"labels\"], predictions[0][\"scores\"]):\n",
        "    if score >= threshold:\n",
        "        box = box.tolist()  # Convert box tensor to a list\n",
        "        draw.rectangle(xy=box, outline=\"yellow\")\n",
        "        draw.text((box[0], box[1]), str(label.item()), fill=\"red\")\n",
        "        draw.text((box[0], box[1] - 10), f\"{score:.2f}\", fill=\"red\")\n",
        "\n",
        "image.show()\n"
      ]
    }
  ],
  "metadata": {
    "colab": {
      "provenance": []
    },
    "kernelspec": {
      "display_name": "Machine Learning",
      "language": "python",
      "name": "conda"
    },
    "language_info": {
      "codemirror_mode": {
        "name": "ipython",
        "version": 3
      },
      "file_extension": ".py",
      "mimetype": "text/x-python",
      "name": "python",
      "nbconvert_exporter": "python",
      "pygments_lexer": "ipython3",
      "version": "3.10.5"
    }
  },
  "nbformat": 4,
  "nbformat_minor": 0
}
